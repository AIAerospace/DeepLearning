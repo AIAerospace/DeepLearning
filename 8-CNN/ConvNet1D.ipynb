{
 "cells": [
  {
   "cell_type": "code",
   "execution_count": 8,
   "metadata": {},
   "outputs": [
    {
     "name": "stdout",
     "output_type": "stream",
     "text": [
      "(7352, 128, 9)\n",
      "(2947, 128, 9)\n",
      "(7352,)\n",
      "(2947,)\n",
      "(7352, 6)\n",
      "(2947, 6)\n"
     ]
    }
   ],
   "source": [
    "import numpy as np\n",
    "import glob\n",
    "import os\n",
    "import keras\n",
    "from keras.utils import to_categorical\n",
    "\n",
    "# Asumiendo que los archivos son .txt y que el directorio está en el path actual\n",
    "file_paths = glob.glob(\"./UCIHARDataset/train/InertialSignals/*.txt\")\n",
    "\n",
    "# Lista para almacenar los datos de cada archivo\n",
    "data_list = []\n",
    "\n",
    "for file in file_paths:\n",
    "    # Carga los datos del archivo en un array de numpy\n",
    "    data = np.loadtxt(file)\n",
    "    data_list.append(data)\n",
    "    \n",
    "\n",
    "# Convierte la lista de arrays en un solo array de numpy.\n",
    "# Nota: Esto funcionará si todos los arrays tienen la misma forma.\n",
    "data_array = np.array(data_list)\n",
    "x_train = data_array.transpose(1, 2, 0)\n",
    "\n",
    "file_paths = glob.glob(\"./UCIHARDataset/test/InertialSignals/*.txt\")\n",
    "# Lista para almacenar los datos de cada archivo\n",
    "data_list = []\n",
    "\n",
    "for file in file_paths:\n",
    "    # Carga los datos del archivo en un array de numpy\n",
    "    data = np.loadtxt(file)\n",
    "    data_list.append(data)\n",
    "    \n",
    "\n",
    "# Convierte la lista de arrays en un solo array de numpy.\n",
    "# Nota: Esto funcionará si todos los arrays tienen la misma forma.\n",
    "data_array = np.array(data_list)\n",
    "x_test = data_array.transpose(1, 2, 0)\n",
    "\n",
    "y_train = np.loadtxt(\"./UCIHARDataset/train/y_train.txt\")\n",
    "y_test = np.loadtxt(\"./UCIHARDataset/test/y_test.txt\")  \n",
    "\n",
    "\n",
    "print(x_train.shape)\n",
    "print(x_test.shape)\n",
    "print(y_train.shape)\n",
    "print(y_test.shape)\n",
    "\n",
    "y_train = to_categorical(y_train - 1)\n",
    "y_test = to_categorical(y_test - 1)\n",
    "\n",
    "print(y_train.shape)\n",
    "print(y_test.shape)"
   ]
  },
  {
   "cell_type": "code",
   "execution_count": 9,
   "metadata": {},
   "outputs": [
    {
     "name": "stdout",
     "output_type": "stream",
     "text": [
      "x_train normalized:  (7352, 128, 9)\n",
      "x_test normalized:  (2947, 128, 9)\n"
     ]
    }
   ],
   "source": [
    "# Normalize x_train and x_test using the mean and standard deviation from x_train\n",
    "x_train_mean = x_train.mean()\n",
    "x_train_std = x_train.std()\n",
    "\n",
    "x_train = (x_train - x_train_mean) / x_train_std\n",
    "x_test = (x_test - x_train_mean) / x_train_std\n",
    "\n",
    "print(\"x_train normalized: \", x_train.shape)\n",
    "print(\"x_test normalized: \", x_test.shape)"
   ]
  },
  {
   "cell_type": "code",
   "execution_count": 10,
   "metadata": {},
   "outputs": [],
   "source": [
    "from keras.models import Sequential\n",
    "from keras.layers import Dense, Flatten, Dropout, Input\n",
    "from keras.layers import Conv1D, MaxPooling1D\n",
    "\n",
    "model = Sequential()\n",
    "model.add(Input(shape=(128,9)))\n",
    "model.add(Conv1D(filters=64, kernel_size=3, activation='relu'))\n",
    "model.add(MaxPooling1D(pool_size=2))\n",
    "model.add(Conv1D(filters=64, kernel_size=3, activation='relu'))\n",
    "model.add(MaxPooling1D(pool_size=2))\n",
    "model.add(Flatten())\n",
    "model.add(Dense(100, activation='relu'))\n",
    "model.add(Dense(6, activation='softmax'))\n",
    "model.compile(loss='categorical_crossentropy', optimizer='adam', metrics=['accuracy'])"
   ]
  },
  {
   "cell_type": "code",
   "execution_count": 11,
   "metadata": {},
   "outputs": [
    {
     "name": "stdout",
     "output_type": "stream",
     "text": [
      "Epoch 1/10\n",
      "\u001b[1m230/230\u001b[0m \u001b[32m━━━━━━━━━━━━━━━━━━━━\u001b[0m\u001b[37m\u001b[0m \u001b[1m3s\u001b[0m 13ms/step - accuracy: 0.7659 - loss: 0.5850 - val_accuracy: 0.8792 - val_loss: 0.3593\n",
      "Epoch 2/10\n",
      "\u001b[1m230/230\u001b[0m \u001b[32m━━━━━━━━━━━━━━━━━━━━\u001b[0m\u001b[37m\u001b[0m \u001b[1m3s\u001b[0m 13ms/step - accuracy: 0.9356 - loss: 0.1484 - val_accuracy: 0.8955 - val_loss: 0.3139\n",
      "Epoch 3/10\n",
      "\u001b[1m230/230\u001b[0m \u001b[32m━━━━━━━━━━━━━━━━━━━━\u001b[0m\u001b[37m\u001b[0m \u001b[1m3s\u001b[0m 14ms/step - accuracy: 0.9554 - loss: 0.1048 - val_accuracy: 0.8826 - val_loss: 0.4743\n",
      "Epoch 4/10\n",
      "\u001b[1m230/230\u001b[0m \u001b[32m━━━━━━━━━━━━━━━━━━━━\u001b[0m\u001b[37m\u001b[0m \u001b[1m4s\u001b[0m 17ms/step - accuracy: 0.9530 - loss: 0.1080 - val_accuracy: 0.9104 - val_loss: 0.3972\n",
      "Epoch 5/10\n",
      "\u001b[1m230/230\u001b[0m \u001b[32m━━━━━━━━━━━━━━━━━━━━\u001b[0m\u001b[37m\u001b[0m \u001b[1m3s\u001b[0m 14ms/step - accuracy: 0.9568 - loss: 0.1016 - val_accuracy: 0.9101 - val_loss: 0.4140\n",
      "Epoch 6/10\n",
      "\u001b[1m230/230\u001b[0m \u001b[32m━━━━━━━━━━━━━━━━━━━━\u001b[0m\u001b[37m\u001b[0m \u001b[1m4s\u001b[0m 16ms/step - accuracy: 0.9607 - loss: 0.0947 - val_accuracy: 0.9063 - val_loss: 0.3826\n",
      "Epoch 7/10\n",
      "\u001b[1m230/230\u001b[0m \u001b[32m━━━━━━━━━━━━━━━━━━━━\u001b[0m\u001b[37m\u001b[0m \u001b[1m4s\u001b[0m 18ms/step - accuracy: 0.9584 - loss: 0.0953 - val_accuracy: 0.9253 - val_loss: 0.3037\n",
      "Epoch 8/10\n",
      "\u001b[1m230/230\u001b[0m \u001b[32m━━━━━━━━━━━━━━━━━━━━\u001b[0m\u001b[37m\u001b[0m \u001b[1m5s\u001b[0m 20ms/step - accuracy: 0.9602 - loss: 0.0913 - val_accuracy: 0.9270 - val_loss: 0.2766\n",
      "Epoch 9/10\n",
      "\u001b[1m230/230\u001b[0m \u001b[32m━━━━━━━━━━━━━━━━━━━━\u001b[0m\u001b[37m\u001b[0m \u001b[1m4s\u001b[0m 16ms/step - accuracy: 0.9605 - loss: 0.0790 - val_accuracy: 0.9169 - val_loss: 0.2801\n",
      "Epoch 10/10\n",
      "\u001b[1m230/230\u001b[0m \u001b[32m━━━━━━━━━━━━━━━━━━━━\u001b[0m\u001b[37m\u001b[0m \u001b[1m3s\u001b[0m 15ms/step - accuracy: 0.9642 - loss: 0.0807 - val_accuracy: 0.9145 - val_loss: 0.3347\n"
     ]
    }
   ],
   "source": [
    "history = model.fit(x_train, y_train, epochs=10, batch_size=32, validation_data=(x_test, y_test))"
   ]
  }
 ],
 "metadata": {
  "kernelspec": {
   "display_name": "deepl",
   "language": "python",
   "name": "python3"
  },
  "language_info": {
   "codemirror_mode": {
    "name": "ipython",
    "version": 3
   },
   "file_extension": ".py",
   "mimetype": "text/x-python",
   "name": "python",
   "nbconvert_exporter": "python",
   "pygments_lexer": "ipython3",
   "version": "3.13.1"
  }
 },
 "nbformat": 4,
 "nbformat_minor": 2
}
