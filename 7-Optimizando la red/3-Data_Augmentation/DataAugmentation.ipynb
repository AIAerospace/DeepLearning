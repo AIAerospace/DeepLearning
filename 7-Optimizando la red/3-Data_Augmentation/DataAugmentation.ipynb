{
 "cells": [
  {
   "cell_type": "markdown",
   "metadata": {
    "id": "hqTszxJxwgYK"
   },
   "source": [
    "# Ejemplo de DNN con Data Augmentation\n",
    "\n",
    "Por cierto, no funciona en este caso, aunque no he hecho el esfuerzo de optimizar los hiperparámetros.\n",
    "\n",
    "Importamos las librerias y hacemos el cuaderno repetible fijando la semilla de los generadores aleatorios."
   ]
  },
  {
   "cell_type": "code",
   "execution_count": 1,
   "metadata": {
    "executionInfo": {
     "elapsed": 7266,
     "status": "ok",
     "timestamp": 1740316538770,
     "user": {
      "displayName": "Ignacio Gomez",
      "userId": "06662164968735915726"
     },
     "user_tz": -60
    },
    "id": "EuhpRbRegkvW"
   },
   "outputs": [],
   "source": [
    "# Import TensorFlow and Keras (Keras3 is integrated into TensorFlow)\n",
    "import keras\n",
    "from keras import layers\n",
    "\n"
   ]
  },
  {
   "cell_type": "markdown",
   "metadata": {
    "id": "VZEwT6c7g3xj"
   },
   "source": [
    "### Cargar y pre-procesar los datos\n",
    "\n",
    "Vamos a utilizar el dataset fashion mnist, con imágenes en escala de grises de prendas de vestir extraidas de zalando.\n",
    "\n",
    "| Label | Description |\n",
    "|---|---|\n",
    "| 0 | T-shirt/top |\n",
    "| 1 | Trouser |\n",
    "| 2 | Pullover |\n",
    "| 3 | Dress |\n",
    "| 4 | Coat |\n",
    "| 5 | Sandal |\n",
    "| 6 | Shirt |\n",
    "| 7 | Sneaker |\n",
    "| 8 | Bag |\n",
    "| 9 | Ankle boot |"
   ]
  },
  {
   "cell_type": "code",
   "execution_count": null,
   "metadata": {
    "executionInfo": {
     "elapsed": 722,
     "status": "ok",
     "timestamp": 1740316539475,
     "user": {
      "displayName": "Ignacio Gomez",
      "userId": "06662164968735915726"
     },
     "user_tz": -60
    },
    "id": "FNCnjAx8g_f5"
   },
   "outputs": [],
   "source": [
    "# Cargamos Fashion MNIST data\n",
    "(x_train, y_train), (x_test, y_test) = keras.datasets.fashion_mnist.load_data()\n",
    "\n",
    "# Add channel dimension (the images are grayscale)\n",
    "x_train = x_train[..., None]  # shape becomes (60000, 28, 28, 1)\n",
    "x_test = x_test[..., None]\n",
    "\n",
    "# Normalizamos en el rango [0, 1]\n",
    "x_train = x_train.astype(\"float32\") / 255.0\n",
    "x_test = x_test.astype(\"float32\") / 255.0\n"
   ]
  },
  {
   "cell_type": "markdown",
   "metadata": {
    "id": "6WvWtSAeh7bY"
   },
   "source": [
    "### Primero sin Data Augmentation\n",
    "\n",
    "Construimos el modelo con tres capas densas (128,64,10)"
   ]
  },
  {
   "cell_type": "markdown",
   "metadata": {
    "id": "rSRF9WUUhEcP"
   },
   "source": [
    "### Definir el Data Augmentation Pipeline\n",
    "\n",
    "creamos un proceso sencillo de data augmentation utilizando las capas de preproceso de keras. Aleatoriamente tota, amplia y voltea las imagenes."
   ]
  },
  {
   "cell_type": "code",
   "execution_count": null,
   "metadata": {
    "executionInfo": {
     "elapsed": 40,
     "status": "ok",
     "timestamp": 1740316735628,
     "user": {
      "displayName": "Ignacio Gomez",
      "userId": "06662164968735915726"
     },
     "user_tz": -60
    },
    "id": "MUNUIX0-ha8U"
   },
   "outputs": [],
   "source": [
    "# Data augmentation pipeline\n",
    "data_augmentation = keras.Sequential(\n",
    "    [\n",
    "        layers.RandomFlip(\"horizontal\"),\n",
    "        layers.RandomRotation(0.2),\n",
    "        layers.RandomZoom(0.2),\n",
    "    ]\n",
    ")\n",
    "\n",
    "# Duplicamos los casos, ya que el aumentador nos los va a variar\n",
    "x_train_big = np.repeat(x_train, 4, axis=0)\n",
    "y_train_big = np.repeat(y_train, 4, axis=0)"
   ]
  },
  {
   "cell_type": "markdown",
   "metadata": {
    "id": "QQ4mADbWhgIV"
   },
   "source": [
    "### Construir el modelo\n",
    "\n",
    "El mismo modelo con tres capas densas (128,64,10)\n"
   ]
  }
 ],
 "metadata": {
  "accelerator": "GPU",
  "colab": {
   "authorship_tag": "ABX9TyO2oA08BfNFCfghxvDLx4VT",
   "gpuType": "T4",
   "provenance": []
  },
  "kernelspec": {
   "display_name": "deepl",
   "language": "python",
   "name": "python3"
  },
  "language_info": {
   "codemirror_mode": {
    "name": "ipython",
    "version": 3
   },
   "file_extension": ".py",
   "mimetype": "text/x-python",
   "name": "python",
   "nbconvert_exporter": "python",
   "pygments_lexer": "ipython3",
   "version": "3.13.1"
  }
 },
 "nbformat": 4,
 "nbformat_minor": 0
}
